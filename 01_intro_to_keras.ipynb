{
 "cells": [
  {
   "cell_type": "markdown",
   "metadata": {},
   "source": [
    "# Hands On Tutorial 1: Intro to Keras"
   ]
  },
  {
   "cell_type": "markdown",
   "metadata": {},
   "source": [
    "### Imports and parameters"
   ]
  },
  {
   "cell_type": "code",
   "execution_count": 1,
   "metadata": {},
   "outputs": [
    {
     "name": "stderr",
     "output_type": "stream",
     "text": [
      "Using TensorFlow backend.\n"
     ]
    }
   ],
   "source": [
    "import keras\n",
    "import keras.backend as K\n",
    "from keras.datasets import mnist\n",
    "from keras.models import Sequential\n",
    "from keras.layers import Dense, Dropout\n",
    "from keras.optimizers import SGD"
   ]
  },
  {
   "cell_type": "code",
   "execution_count": 2,
   "metadata": {},
   "outputs": [],
   "source": [
    "batch_size = 128  # The number of examples to accumulate for a single gradient update in SGD.\n",
    "num_classes = 10  # The number of classes equals the number of digits.\n",
    "epochs = 50  # The number of epochs to train the model for."
   ]
  },
  {
   "cell_type": "markdown",
   "metadata": {},
   "source": [
    "### Dataset preparation"
   ]
  },
  {
   "cell_type": "code",
   "execution_count": 3,
   "metadata": {},
   "outputs": [
    {
     "name": "stdout",
     "output_type": "stream",
     "text": [
      "60000 train samples\n",
      "10000 test samples\n"
     ]
    }
   ],
   "source": [
    "# the data, split between train and test sets\n",
    "(x_train, y_train), (x_test, y_test) = mnist.load_data()\n",
    "\n",
    "x_train = x_train.reshape(60000, 784)\n",
    "x_test = x_test.reshape(10000, 784)\n",
    "x_train = x_train.astype('float32')\n",
    "x_test = x_test.astype('float32')\n",
    "x_train /= 255\n",
    "x_test /= 255\n",
    "print(x_train.shape[0], 'train samples')\n",
    "print(x_test.shape[0], 'test samples')\n",
    "\n",
    "# convert class vectors to binary class matrices\n",
    "y_train = keras.utils.to_categorical(y_train, num_classes)\n",
    "y_test = keras.utils.to_categorical(y_test, num_classes)"
   ]
  },
  {
   "cell_type": "markdown",
   "metadata": {},
   "source": [
    "### Building Model Architecture"
   ]
  },
  {
   "cell_type": "code",
   "execution_count": 4,
   "metadata": {},
   "outputs": [
    {
     "name": "stdout",
     "output_type": "stream",
     "text": [
      "_________________________________________________________________\n",
      "Layer (type)                 Output Shape              Param #   \n",
      "=================================================================\n",
      "dense_1 (Dense)              (None, 512)               401920    \n",
      "_________________________________________________________________\n",
      "dropout_1 (Dropout)          (None, 512)               0         \n",
      "_________________________________________________________________\n",
      "dense_2 (Dense)              (None, 512)               262656    \n",
      "_________________________________________________________________\n",
      "dropout_2 (Dropout)          (None, 512)               0         \n",
      "_________________________________________________________________\n",
      "dense_3 (Dense)              (None, 10)                5130      \n",
      "=================================================================\n",
      "Total params: 669,706\n",
      "Trainable params: 669,706\n",
      "Non-trainable params: 0\n",
      "_________________________________________________________________\n"
     ]
    }
   ],
   "source": [
    "model = Sequential()\n",
    "model.add(Dense(512, activation='relu', input_shape=(784,)))\n",
    "model.add(Dropout(0.2))\n",
    "model.add(Dense(512, activation='relu'))\n",
    "model.add(Dropout(0.2))\n",
    "model.add(Dense(num_classes, activation='softmax'))\n",
    "\n",
    "model.summary()"
   ]
  },
  {
   "cell_type": "markdown",
   "metadata": {},
   "source": [
    "### Compile model and set loss function and metrics"
   ]
  },
  {
   "cell_type": "code",
   "execution_count": 5,
   "metadata": {},
   "outputs": [],
   "source": [
    "model.compile(loss='categorical_crossentropy',\n",
    "              optimizer=SGD(),\n",
    "              metrics=['accuracy'])"
   ]
  },
  {
   "cell_type": "markdown",
   "metadata": {},
   "source": [
    "### Model Training"
   ]
  },
  {
   "cell_type": "code",
   "execution_count": 6,
   "metadata": {
    "scrolled": true
   },
   "outputs": [
    {
     "name": "stdout",
     "output_type": "stream",
     "text": [
      "Train on 60000 samples, validate on 10000 samples\n",
      "Epoch 1/50\n",
      "60000/60000 [==============================] - 14s 233us/step - loss: 1.2495 - acc: 0.6757 - val_loss: 0.5447 - val_acc: 0.8735\n",
      "Epoch 2/50\n",
      "60000/60000 [==============================] - 10s 164us/step - loss: 0.5325 - acc: 0.8514 - val_loss: 0.3747 - val_acc: 0.8985\n",
      "Epoch 3/50\n",
      "60000/60000 [==============================] - 10s 160us/step - loss: 0.4287 - acc: 0.8760 - val_loss: 0.3219 - val_acc: 0.9107\n",
      "Epoch 4/50\n",
      "60000/60000 [==============================] - 8s 130us/step - loss: 0.3760 - acc: 0.8914 - val_loss: 0.2931 - val_acc: 0.9181\n",
      "Epoch 5/50\n",
      "60000/60000 [==============================] - 8s 132us/step - loss: 0.3420 - acc: 0.9016 - val_loss: 0.2704 - val_acc: 0.9228\n",
      "Epoch 6/50\n",
      "60000/60000 [==============================] - 7s 116us/step - loss: 0.3187 - acc: 0.9084 - val_loss: 0.2539 - val_acc: 0.9266\n",
      "Epoch 7/50\n",
      "60000/60000 [==============================] - 7s 117us/step - loss: 0.2993 - acc: 0.9130 - val_loss: 0.2406 - val_acc: 0.9298\n",
      "Epoch 8/50\n",
      "60000/60000 [==============================] - 7s 116us/step - loss: 0.2839 - acc: 0.9183 - val_loss: 0.2302 - val_acc: 0.9334\n",
      "Epoch 9/50\n",
      "60000/60000 [==============================] - 7s 116us/step - loss: 0.2667 - acc: 0.9229 - val_loss: 0.2167 - val_acc: 0.9384\n",
      "Epoch 10/50\n",
      "60000/60000 [==============================] - 8s 126us/step - loss: 0.2553 - acc: 0.9263 - val_loss: 0.2074 - val_acc: 0.9404\n",
      "Epoch 11/50\n",
      "60000/60000 [==============================] - 8s 130us/step - loss: 0.2429 - acc: 0.9300 - val_loss: 0.1996 - val_acc: 0.9429\n",
      "Epoch 12/50\n",
      "60000/60000 [==============================] - 6s 102us/step - loss: 0.2323 - acc: 0.9326 - val_loss: 0.1908 - val_acc: 0.9450\n",
      "Epoch 13/50\n",
      "60000/60000 [==============================] - 6s 95us/step - loss: 0.2244 - acc: 0.9348 - val_loss: 0.1830 - val_acc: 0.9466\n",
      "Epoch 14/50\n",
      "60000/60000 [==============================] - 7s 114us/step - loss: 0.2161 - acc: 0.9374 - val_loss: 0.1773 - val_acc: 0.9486\n",
      "Epoch 15/50\n",
      "60000/60000 [==============================] - 7s 121us/step - loss: 0.2070 - acc: 0.9405 - val_loss: 0.1709 - val_acc: 0.9507\n",
      "Epoch 16/50\n",
      "60000/60000 [==============================] - 7s 112us/step - loss: 0.2004 - acc: 0.9422 - val_loss: 0.1658 - val_acc: 0.9517\n",
      "Epoch 17/50\n",
      "60000/60000 [==============================] - 6s 96us/step - loss: 0.1928 - acc: 0.9446 - val_loss: 0.1595 - val_acc: 0.9528\n",
      "Epoch 18/50\n",
      "60000/60000 [==============================] - 7s 119us/step - loss: 0.1869 - acc: 0.9463 - val_loss: 0.1553 - val_acc: 0.9543\n",
      "Epoch 19/50\n",
      "60000/60000 [==============================] - 7s 111us/step - loss: 0.1795 - acc: 0.9479 - val_loss: 0.1505 - val_acc: 0.9554\n",
      "Epoch 20/50\n",
      "60000/60000 [==============================] - 6s 105us/step - loss: 0.1753 - acc: 0.9493 - val_loss: 0.1464 - val_acc: 0.9559\n",
      "Epoch 21/50\n",
      "60000/60000 [==============================] - 6s 97us/step - loss: 0.1692 - acc: 0.9506 - val_loss: 0.1426 - val_acc: 0.9571\n",
      "Epoch 22/50\n",
      "60000/60000 [==============================] - 8s 125us/step - loss: 0.1652 - acc: 0.9528 - val_loss: 0.1394 - val_acc: 0.9578\n",
      "Epoch 23/50\n",
      "60000/60000 [==============================] - 8s 136us/step - loss: 0.1609 - acc: 0.9534 - val_loss: 0.1347 - val_acc: 0.9593\n",
      "Epoch 24/50\n",
      "60000/60000 [==============================] - 7s 114us/step - loss: 0.1566 - acc: 0.9546 - val_loss: 0.1325 - val_acc: 0.9599\n",
      "Epoch 25/50\n",
      "60000/60000 [==============================] - 6s 98us/step - loss: 0.1521 - acc: 0.9555 - val_loss: 0.1287 - val_acc: 0.9609\n",
      "Epoch 26/50\n",
      "60000/60000 [==============================] - 6s 96us/step - loss: 0.1493 - acc: 0.9562 - val_loss: 0.1255 - val_acc: 0.9614\n",
      "Epoch 27/50\n",
      "60000/60000 [==============================] - 6s 95us/step - loss: 0.1448 - acc: 0.9581 - val_loss: 0.1228 - val_acc: 0.9627\n",
      "Epoch 28/50\n",
      "60000/60000 [==============================] - 6s 95us/step - loss: 0.1415 - acc: 0.9578 - val_loss: 0.1204 - val_acc: 0.9629\n",
      "Epoch 29/50\n",
      "60000/60000 [==============================] - 6s 95us/step - loss: 0.1379 - acc: 0.9598 - val_loss: 0.1181 - val_acc: 0.9641\n",
      "Epoch 30/50\n",
      "60000/60000 [==============================] - 7s 120us/step - loss: 0.1349 - acc: 0.9605 - val_loss: 0.1161 - val_acc: 0.9643\n",
      "Epoch 31/50\n",
      "60000/60000 [==============================] - 8s 132us/step - loss: 0.1314 - acc: 0.9615 - val_loss: 0.1137 - val_acc: 0.9644\n",
      "Epoch 32/50\n",
      "60000/60000 [==============================] - 7s 121us/step - loss: 0.1286 - acc: 0.9621 - val_loss: 0.1118 - val_acc: 0.9651\n",
      "Epoch 33/50\n",
      "60000/60000 [==============================] - 8s 141us/step - loss: 0.1254 - acc: 0.9635 - val_loss: 0.1111 - val_acc: 0.9655\n",
      "Epoch 34/50\n",
      "60000/60000 [==============================] - 9s 147us/step - loss: 0.1230 - acc: 0.9641 - val_loss: 0.1075 - val_acc: 0.9662\n",
      "Epoch 35/50\n",
      "60000/60000 [==============================] - 8s 135us/step - loss: 0.1196 - acc: 0.9658 - val_loss: 0.1057 - val_acc: 0.9674\n",
      "Epoch 36/50\n",
      "60000/60000 [==============================] - 8s 127us/step - loss: 0.1189 - acc: 0.9649 - val_loss: 0.1038 - val_acc: 0.9679\n",
      "Epoch 37/50\n",
      "60000/60000 [==============================] - 7s 120us/step - loss: 0.1168 - acc: 0.9659 - val_loss: 0.1026 - val_acc: 0.9689\n",
      "Epoch 38/50\n",
      "60000/60000 [==============================] - 7s 123us/step - loss: 0.1140 - acc: 0.9664 - val_loss: 0.1016 - val_acc: 0.9684\n",
      "Epoch 39/50\n",
      "60000/60000 [==============================] - 8s 137us/step - loss: 0.1111 - acc: 0.9678 - val_loss: 0.0998 - val_acc: 0.9694\n",
      "Epoch 40/50\n",
      "60000/60000 [==============================] - 7s 119us/step - loss: 0.1103 - acc: 0.9675 - val_loss: 0.0982 - val_acc: 0.9698\n",
      "Epoch 41/50\n",
      "60000/60000 [==============================] - 7s 118us/step - loss: 0.1078 - acc: 0.9682 - val_loss: 0.0968 - val_acc: 0.9701\n",
      "Epoch 42/50\n",
      "60000/60000 [==============================] - 7s 115us/step - loss: 0.1059 - acc: 0.9694 - val_loss: 0.0952 - val_acc: 0.9707\n",
      "Epoch 43/50\n",
      "60000/60000 [==============================] - 7s 123us/step - loss: 0.1047 - acc: 0.9696 - val_loss: 0.0938 - val_acc: 0.9713\n",
      "Epoch 44/50\n",
      "60000/60000 [==============================] - 6s 108us/step - loss: 0.1025 - acc: 0.9700 - val_loss: 0.0929 - val_acc: 0.9706\n",
      "Epoch 45/50\n",
      "60000/60000 [==============================] - 7s 119us/step - loss: 0.0999 - acc: 0.9702 - val_loss: 0.0911 - val_acc: 0.9713\n",
      "Epoch 46/50\n",
      "60000/60000 [==============================] - 6s 100us/step - loss: 0.0981 - acc: 0.9716 - val_loss: 0.0906 - val_acc: 0.9720\n",
      "Epoch 47/50\n",
      "60000/60000 [==============================] - 8s 128us/step - loss: 0.0978 - acc: 0.9711 - val_loss: 0.0895 - val_acc: 0.9721\n",
      "Epoch 48/50\n",
      "60000/60000 [==============================] - 7s 109us/step - loss: 0.0960 - acc: 0.9716 - val_loss: 0.0888 - val_acc: 0.9721\n",
      "Epoch 49/50\n",
      "60000/60000 [==============================] - 7s 108us/step - loss: 0.0945 - acc: 0.9722 - val_loss: 0.0875 - val_acc: 0.9732\n",
      "Epoch 50/50\n",
      "60000/60000 [==============================] - 6s 100us/step - loss: 0.0930 - acc: 0.9725 - val_loss: 0.0869 - val_acc: 0.9738\n"
     ]
    }
   ],
   "source": [
    "history = model.fit(x_train, y_train,\n",
    "                    batch_size=batch_size,\n",
    "                    epochs=epochs,\n",
    "                    verbose=1,\n",
    "                    validation_data=(x_test, y_test))"
   ]
  },
  {
   "cell_type": "markdown",
   "metadata": {},
   "source": [
    "### Model Evaluation"
   ]
  },
  {
   "cell_type": "code",
   "execution_count": 7,
   "metadata": {},
   "outputs": [],
   "source": [
    "%matplotlib inline \n",
    "import matplotlib.pyplot as plt\n",
    "import seaborn as sns"
   ]
  },
  {
   "cell_type": "code",
   "execution_count": 8,
   "metadata": {},
   "outputs": [
    {
     "data": {
      "image/png": "[encoded data removed]",
      "text/plain": [
       "<Figure size 720x288 with 2 Axes>"
      ]
     },
     "metadata": {},
     "output_type": "display_data"
    }
   ],
   "source": [
    "fig, (ax1, ax2) = plt.subplots(1, 2, figsize=(10, 4))\n",
    "ax1.plot(range(1, epochs+1), history.history['acc'], label='Training')\n",
    "ax1.plot(range(1, epochs+1), history.history['val_acc'], label='Validation')\n",
    "ax1.legend(loc='lower right')\n",
    "ax1.set_xlim(1, epochs)\n",
    "ax1.set_xlabel('Epoch')\n",
    "ax1.set_ylabel('Categorical Accuracy')\n",
    "ax2.plot(range(1, epochs+1), history.history['loss'], label='Training')\n",
    "ax2.plot(range(1, epochs+1), history.history['val_loss'], label='Validation')\n",
    "ax2.legend(loc='upper right')\n",
    "ax2.set_xlim(1, epochs)\n",
    "ax2.set_xlabel('Epoch')\n",
    "ax2.set_ylabel('Categorical Crossentropy')\n",
    "plt.show()"
   ]
  },
  {
   "cell_type": "code",
   "execution_count": 9,
   "metadata": {
    "scrolled": true
   },
   "outputs": [
    {
     "name": "stdout",
     "output_type": "stream",
     "text": [
      "Best validation loss: 0.086920\n",
      "Best validation accuracy: 97.38%\n"
     ]
    }
   ],
   "source": [
    "score = model.evaluate(x_test, y_test, verbose=0)\n",
    "print('Best validation loss: {0:.6f}'.format(score[0]))\n",
    "print('Best validation accuracy: {0:.2f}%'.format(score[1]*100))"
   ]
  },
  {
   "cell_type": "markdown",
   "metadata": {},
   "source": [
    "### Better model: Convolutional Neural Network"
   ]
  },
  {
   "cell_type": "code",
   "execution_count": 10,
   "metadata": {},
   "outputs": [],
   "source": [
    "from keras.layers import Conv2D, MaxPooling2D, Flatten"
   ]
  },
  {
   "cell_type": "code",
   "execution_count": 24,
   "metadata": {},
   "outputs": [
    {
     "name": "stdout",
     "output_type": "stream",
     "text": [
      "x_train shape: (60000, 28, 28, 1)\n",
      "60000 train samples\n",
      "10000 test samples\n"
     ]
    }
   ],
   "source": [
    "img_rows, img_cols = 28, 28\n",
    "epochs = 20\n",
    "    \n",
    "x_train = x_train.reshape(x_train.shape[0], img_rows, img_cols, 1)\n",
    "x_test = x_test.reshape(x_test.shape[0], img_rows, img_cols, 1)\n",
    "input_shape = (img_rows, img_cols, 1)\n",
    "\n",
    "print('x_train shape:', x_train.shape)\n",
    "print(x_train.shape[0], 'train samples')\n",
    "print(x_test.shape[0], 'test samples')"
   ]
  },
  {
   "cell_type": "code",
   "execution_count": 25,
   "metadata": {},
   "outputs": [
    {
     "name": "stdout",
     "output_type": "stream",
     "text": [
      "_________________________________________________________________\n",
      "Layer (type)                 Output Shape              Param #   \n",
      "=================================================================\n",
      "conv2d_5 (Conv2D)            (None, 26, 26, 32)        320       \n",
      "_________________________________________________________________\n",
      "conv2d_6 (Conv2D)            (None, 24, 24, 64)        18496     \n",
      "_________________________________________________________________\n",
      "max_pooling2d_3 (MaxPooling2 (None, 12, 12, 64)        0         \n",
      "_________________________________________________________________\n",
      "dropout_7 (Dropout)          (None, 12, 12, 64)        0         \n",
      "_________________________________________________________________\n",
      "flatten_3 (Flatten)          (None, 9216)              0         \n",
      "_________________________________________________________________\n",
      "dense_8 (Dense)              (None, 128)               1179776   \n",
      "_________________________________________________________________\n",
      "dropout_8 (Dropout)          (None, 128)               0         \n",
      "_________________________________________________________________\n",
      "dense_9 (Dense)              (None, 10)                1290      \n",
      "=================================================================\n",
      "Total params: 1,199,882\n",
      "Trainable params: 1,199,882\n",
      "Non-trainable params: 0\n",
      "_________________________________________________________________\n"
     ]
    }
   ],
   "source": [
    "cnn_model = Sequential()\n",
    "cnn_model.add(Conv2D(32, kernel_size=(3, 3),\n",
    "                 activation='relu',\n",
    "                 input_shape=input_shape))\n",
    "cnn_model.add(Conv2D(64, (3, 3), activation='relu'))\n",
    "cnn_model.add(MaxPooling2D(pool_size=(2, 2)))\n",
    "cnn_model.add(Dropout(0.25))\n",
    "cnn_model.add(Flatten())\n",
    "cnn_model.add(Dense(128, activation='relu'))\n",
    "cnn_model.add(Dropout(0.5))\n",
    "cnn_model.add(Dense(num_classes, activation='softmax'))\n",
    "\n",
    "cnn_model.summary()"
   ]
  },
  {
   "cell_type": "code",
   "execution_count": 27,
   "metadata": {
    "scrolled": true
   },
   "outputs": [
    {
     "name": "stdout",
     "output_type": "stream",
     "text": [
      "Train on 60000 samples, validate on 10000 samples\n",
      "Epoch 1/20\n",
      "60000/60000 [==============================] - 166s 3ms/step - loss: 1.0164 - acc: 0.6791 - val_loss: 0.3115 - val_acc: 0.9099\n",
      "Epoch 2/20\n",
      "60000/60000 [==============================] - 192s 3ms/step - loss: 0.4386 - acc: 0.8657 - val_loss: 0.2315 - val_acc: 0.9339\n",
      "Epoch 3/20\n",
      "60000/60000 [==============================] - 183s 3ms/step - loss: 0.3616 - acc: 0.8911 - val_loss: 0.1967 - val_acc: 0.9406\n",
      "Epoch 4/20\n",
      "60000/60000 [==============================] - 181s 3ms/step - loss: 0.3245 - acc: 0.9020 - val_loss: 0.1784 - val_acc: 0.9484\n",
      "Epoch 5/20\n",
      "60000/60000 [==============================] - 170s 3ms/step - loss: 0.2971 - acc: 0.9116 - val_loss: 0.1617 - val_acc: 0.9525\n",
      "Epoch 6/20\n",
      "60000/60000 [==============================] - 173s 3ms/step - loss: 0.2773 - acc: 0.9155 - val_loss: 0.1488 - val_acc: 0.9574\n",
      "Epoch 7/20\n",
      "60000/60000 [==============================] - 148s 2ms/step - loss: 0.2569 - acc: 0.9228 - val_loss: 0.1387 - val_acc: 0.9597\n",
      "Epoch 8/20\n",
      "60000/60000 [==============================] - 146s 2ms/step - loss: 0.2455 - acc: 0.9259 - val_loss: 0.1297 - val_acc: 0.9614\n",
      "Epoch 9/20\n",
      "60000/60000 [==============================] - 146s 2ms/step - loss: 0.2305 - acc: 0.9309 - val_loss: 0.1228 - val_acc: 0.9632\n",
      "Epoch 10/20\n",
      "60000/60000 [==============================] - 145s 2ms/step - loss: 0.2184 - acc: 0.9339 - val_loss: 0.1160 - val_acc: 0.9635\n",
      "Epoch 11/20\n",
      "60000/60000 [==============================] - 146s 2ms/step - loss: 0.2067 - acc: 0.9385 - val_loss: 0.1084 - val_acc: 0.9662\n",
      "Epoch 12/20\n",
      "60000/60000 [==============================] - 146s 2ms/step - loss: 0.1981 - acc: 0.9404 - val_loss: 0.1022 - val_acc: 0.9698\n",
      "Epoch 13/20\n",
      "60000/60000 [==============================] - 146s 2ms/step - loss: 0.1874 - acc: 0.9433 - val_loss: 0.0989 - val_acc: 0.9691\n",
      "Epoch 14/20\n",
      "60000/60000 [==============================] - 147s 2ms/step - loss: 0.1788 - acc: 0.9461 - val_loss: 0.0912 - val_acc: 0.9719\n",
      "Epoch 15/20\n",
      "60000/60000 [==============================] - 148s 2ms/step - loss: 0.1692 - acc: 0.9496 - val_loss: 0.0862 - val_acc: 0.9738\n",
      "Epoch 16/20\n",
      "60000/60000 [==============================] - 183s 3ms/step - loss: 0.1615 - acc: 0.9513 - val_loss: 0.0826 - val_acc: 0.9749\n",
      "Epoch 17/20\n",
      "60000/60000 [==============================] - 155s 3ms/step - loss: 0.1514 - acc: 0.9541 - val_loss: 0.0788 - val_acc: 0.9754\n",
      "Epoch 18/20\n",
      "60000/60000 [==============================] - 154s 3ms/step - loss: 0.1469 - acc: 0.9573 - val_loss: 0.0758 - val_acc: 0.9757\n",
      "Epoch 19/20\n",
      "60000/60000 [==============================] - 152s 3ms/step - loss: 0.1436 - acc: 0.9572 - val_loss: 0.0705 - val_acc: 0.9777\n",
      "Epoch 20/20\n",
      "60000/60000 [==============================] - 157s 3ms/step - loss: 0.1339 - acc: 0.9587 - val_loss: 0.0680 - val_acc: 0.9788\n"
     ]
    }
   ],
   "source": [
    "cnn_model.compile(loss=keras.losses.categorical_crossentropy,\n",
    "              optimizer=SGD(),\n",
    "              metrics=['accuracy'])\n",
    "\n",
    "cnn_history = cnn_model.fit(x_train, y_train,\n",
    "          batch_size=batch_size,\n",
    "          epochs=epochs,\n",
    "          verbose=1,\n",
    "          validation_data=(x_test, y_test))"
   ]
  },
  {
   "cell_type": "code",
   "execution_count": 28,
   "metadata": {},
   "outputs": [
    {
     "data": {
      "image/png": "[encoded data removed]",
      "text/plain": [
       "<Figure size 720x288 with 2 Axes>"
      ]
     },
     "metadata": {},
     "output_type": "display_data"
    }
   ],
   "source": [
    "fig, (ax1, ax2) = plt.subplots(1, 2, figsize=(10, 4))\n",
    "ax1.plot(range(1, epochs+1), cnn_history.history['acc'], label='Training')\n",
    "ax1.plot(range(1, epochs+1), cnn_history.history['val_acc'], label='Validation')\n",
    "ax1.legend(loc='lower right')\n",
    "ax1.set_xlim(1, epochs)\n",
    "ax1.set_xlabel('Epoch')\n",
    "ax1.set_ylabel('Categorical Accuracy')\n",
    "ax2.plot(range(1, epochs+1), cnn_history.history['loss'], label='Training')\n",
    "ax2.plot(range(1, epochs+1), cnn_history.history['val_loss'], label='Validation')\n",
    "ax2.legend(loc='upper right')\n",
    "ax2.set_xlim(1, epochs)\n",
    "ax2.set_xlabel('Epoch')\n",
    "ax2.set_ylabel('Categorical Crossentropy')\n",
    "plt.show()"
   ]
  },
  {
   "cell_type": "code",
   "execution_count": 29,
   "metadata": {},
   "outputs": [
    {
     "name": "stdout",
     "output_type": "stream",
     "text": [
      "Best validation loss: 0.068038\n",
      "Best validation accuracy: 97.88%\n"
     ]
    }
   ],
   "source": [
    "score = cnn_model.evaluate(x_test, y_test, verbose=0)\n",
    "print('Best validation loss: {0:.6f}'.format(score[0]))\n",
    "print('Best validation accuracy: {0:.2f}%'.format(score[1]*100))"
   ]
  }
 ],
 "metadata": {
  "kernelspec": {
   "display_name": "Python 3",
   "language": "python",
   "name": "python3"
  },
  "language_info": {
   "codemirror_mode": {
    "name": "ipython",
    "version": 3
   },
   "file_extension": ".py",
   "mimetype": "text/x-python",
   "name": "python",
   "nbconvert_exporter": "python",
   "pygments_lexer": "ipython3",
   "version": "3.6.3"
  }
 },
 "nbformat": 4,
 "nbformat_minor": 2
}
